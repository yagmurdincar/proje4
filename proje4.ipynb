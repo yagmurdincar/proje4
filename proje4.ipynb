{
  "nbformat": 4,
  "nbformat_minor": 0,
  "metadata": {
    "colab": {
      "provenance": [],
      "authorship_tag": "ABX9TyOnssPIiKtGl/zI+arGpDJQ",
      "include_colab_link": true
    },
    "kernelspec": {
      "name": "python3",
      "display_name": "Python 3"
    },
    "language_info": {
      "name": "python"
    }
  },
  "cells": [
    {
      "cell_type": "markdown",
      "metadata": {
        "id": "view-in-github",
        "colab_type": "text"
      },
      "source": [
        "<a href=\"https://colab.research.google.com/github/yagmurdincar/proje4/blob/main/proje4.ipynb\" target=\"_parent\"><img src=\"https://colab.research.google.com/assets/colab-badge.svg\" alt=\"Open In Colab\"/></a>"
      ]
    },
    {
      "cell_type": "code",
      "execution_count": 1,
      "metadata": {
        "colab": {
          "base_uri": "https://localhost:8080/"
        },
        "id": "8cDXXNwECMj9",
        "outputId": "94f5dc21-638a-43c9-e69a-0a1db021f0a9"
      },
      "outputs": [
        {
          "output_type": "stream",
          "name": "stdout",
          "text": [
            "Lütfen bir metin girin:\n",
            "internet çok önemli\n",
            "Girilen metin 'Eğlence' ile daha çok ilgili.\n"
          ]
        }
      ],
      "source": [
        "import numpy as np\n",
        "from sklearn.feature_extraction.text import TfidfVectorizer\n",
        "from sklearn.naive_bayes import MultinomialNB\n",
        "from sklearn.pipeline import make_pipeline\n",
        "\n",
        "# Örnek veriler (metinler ve etiketler)\n",
        "veriler = [\n",
        "    (\"Hükümet yeni yasaları onayladı.\", \"Siyaset\"),\n",
        "    (\"Yapay zeka, sağlık alanında devrim yaratıyor.\", \"Teknoloji\"),\n",
        "    (\"Futbol maçında takımlar harika bir performans sergiledi.\", \"Spor\"),\n",
        "    (\"Kış hastalıklarına karşı aşı önerileri.\", \"Sağlık\"),\n",
        "    (\"Yeni bir film çok beğenildi.\", \"Eğlence\"),\n",
        "    (\"İklim değişikliği hakkında yeni araştırmalar.\", \"Siyaset\"),\n",
        "    (\"Sosyal medya uygulamaları popülaritesini artırıyor.\", \"Teknoloji\"),\n",
        "    (\"Dünya Kupası özelinde yapılan analizler.\", \"Spor\"),\n",
        "    (\"Diyet programları ve sağlıklı yaşam.\", \"Sağlık\"),\n",
        "    (\"Dizi sezon finali izleyicileri üzmeyecek.\", \"Eğlence\")\n",
        "]\n",
        "\n",
        "# Verileri ve etiketleri ayırma\n",
        "metinler, etiketler = zip(*veriler)\n",
        "\n",
        "# Modeli oluşturma ve eğitme\n",
        "model = make_pipeline(TfidfVectorizer(), MultinomialNB())\n",
        "model.fit(metinler, etiketler)\n",
        "\n",
        "def konu_tespiti(metin):\n",
        "    # Metni sınıflandır\n",
        "    tahmin = model.predict([metin])\n",
        "    return tahmin[0]\n",
        "\n",
        "def main():\n",
        "    print(\"Lütfen bir metin girin:\")\n",
        "    metin = input()\n",
        "    konu = konu_tespiti(metin)\n",
        "\n",
        "    # Sonuçları yazdırma\n",
        "    konular = [\"Siyaset\", \"Teknoloji\", \"Spor\", \"Sağlık\", \"Eğlence\"]\n",
        "    if konu in konular:\n",
        "        print(f\"Girilen metin '{konu}' ile daha çok ilgili.\")\n",
        "    else:\n",
        "        print(\"Girilen metin 'Diğer Konular' ile ilişkilendirildi.\")\n",
        "\n",
        "if __name__ == \"__main__\":\n",
        "    main()"
      ]
    }
  ]
}